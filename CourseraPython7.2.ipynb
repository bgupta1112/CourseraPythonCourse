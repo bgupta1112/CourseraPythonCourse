{
 "cells": [
  {
   "cell_type": "code",
   "execution_count": 2,
   "metadata": {
    "collapsed": true
   },
   "outputs": [
    {
     "name": "stdout",
     "output_type": "stream",
     "text": [
      "Average spam confidence: 0.7507185185185187\n"
     ]
    }
   ],
   "source": [
    "#7.2 Write a program that prompts for a file name, then opens that file and reads through the file, looking #for lines of the form:\n",
    "#X-DSPAM-Confidence:    0.8475\n",
    "#Count these lines and extract the floating point values from each of the lines and compute the average of #those values and produce an output as shown below. Do not use the sum() function or a variable named sum in# your solution.\n",
    "#You can download the sample data at http://www.py4e.com/code3/mbox-short.txt when you are testing below #enter mbox-short.txt as the file name.\n",
    "\n",
    "\n",
    "# Use the file name mbox-short.txt as the file name\n",
    "fname = input(\"Enter file name: \")\n",
    "fh = open(fname)\n",
    "total = 0.0\n",
    "count = 0\n",
    "for line in fh:\n",
    "    if not line.startswith(\"X-DSPAM-Confidence:\"):\n",
    "        continue\n",
    "\n",
    "    float_p = line.find(':')\n",
    "    float_n = float(line[float_p +1 :])\n",
    "    total = total + float_n\n",
    "    count = count +1\n",
    "\n",
    "print(\"Average spam confidence:\",total/count)\n"
   ]
  },
  {
   "cell_type": "code",
   "execution_count": null,
   "outputs": [],
   "source": [
    "\n"
   ],
   "metadata": {
    "collapsed": false
   }
  }
 ],
 "metadata": {
  "kernelspec": {
   "display_name": "Python 3",
   "language": "python",
   "name": "python3"
  },
  "language_info": {
   "codemirror_mode": {
    "name": "ipython",
    "version": 2
   },
   "file_extension": ".py",
   "mimetype": "text/x-python",
   "name": "python",
   "nbconvert_exporter": "python",
   "pygments_lexer": "ipython2",
   "version": "2.7.6"
  }
 },
 "nbformat": 4,
 "nbformat_minor": 0
}
