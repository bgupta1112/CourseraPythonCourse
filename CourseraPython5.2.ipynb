{
 "cells": [
  {
   "cell_type": "code",
   "execution_count": null,
   "metadata": {
    "collapsed": true
   },
   "outputs": [],
   "source": []
  },
  {
   "cell_type": "code",
   "execution_count": 1,
   "outputs": [
    {
     "name": "stdout",
     "output_type": "stream",
     "text": [
      "Maximum is 15\n",
      "Minimum is 8\n"
     ]
    }
   ],
   "source": [
    "# ****\n",
    "# 5.2 Write a program that repeatedly prompts a user for integer numbers\n",
    "# until the user enters 'done'.\n",
    "# Once 'done' is entered, print out the largest and smallest of the numbers.\n",
    "# If the user enters anything other than a valid number catch it\n",
    "# with a try/except and put out an appropriate message and ignore the number.\n",
    "# Enter 7, 2, bob, 10, and 4 and match the output below.\n",
    "\n",
    "\n",
    "\n",
    "largest = None\n",
    "smallest = None\n",
    "while True:\n",
    "    num = input(\"Enter a number: \")\n",
    "    if num == \"done\":\n",
    "        break\n",
    "    try:\n",
    "        num = int(num)\n",
    "    except:\n",
    "        print(\"Invalid input\")\n",
    "        continue\n",
    "    if smallest is None:\n",
    "        smallest = num\n",
    "    elif num < smallest:\n",
    "       smallest = num\n",
    "    if largest is None:\n",
    "        largest = num\n",
    "    elif num > largest:\n",
    "       largest = num\n",
    "\n",
    "print(\"Maximum is\", largest)\n",
    "print(\"Minimum is\", smallest)\n",
    "\n",
    "\n"
   ],
   "metadata": {
    "collapsed": false
   }
  },
  {
   "cell_type": "code",
   "execution_count": null,
   "outputs": [],
   "source": [],
   "metadata": {
    "collapsed": false
   }
  }
 ],
 "metadata": {
  "kernelspec": {
   "display_name": "Python 3",
   "language": "python",
   "name": "python3"
  },
  "language_info": {
   "codemirror_mode": {
    "name": "ipython",
    "version": 2
   },
   "file_extension": ".py",
   "mimetype": "text/x-python",
   "name": "python",
   "nbconvert_exporter": "python",
   "pygments_lexer": "ipython2",
   "version": "2.7.6"
  }
 },
 "nbformat": 4,
 "nbformat_minor": 0
}
